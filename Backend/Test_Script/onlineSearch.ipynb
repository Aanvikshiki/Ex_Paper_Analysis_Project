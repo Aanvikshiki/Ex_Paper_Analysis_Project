{
 "cells": [
  {
   "cell_type": "code",
   "execution_count": 1,
   "id": "82aecca0",
   "metadata": {},
   "outputs": [],
   "source": [
    "from nltk import word_tokenize\n",
    "import nltk\n",
    "import threading\n",
    "import time\n",
    "from operator import itemgetter\n",
    "from ecommercetools import seo"
   ]
  },
  {
   "cell_type": "code",
   "execution_count": 2,
   "id": "e3e95aca",
   "metadata": {},
   "outputs": [],
   "source": [
    "def process(content):\n",
    "    #------- NORMALIZATION ----------------#\n",
    "    normalize = []\n",
    "    for line in content:\n",
    "        normalize.append(' '.join([''.join([ch.lower() for ch in word if ch.isalpha()]) for word in line.split()]))\n",
    "    #------- TOKENIZATION ----------------#\n",
    "    tokenize = []\n",
    "    for line in normalize:\n",
    "        tokenize.append(nltk.word_tokenize(line))\n",
    "    #------- STOPWORD REMOVAL ----------------#\n",
    "    stopword_lst = nltk.corpus.stopwords.words(fileids='english')\n",
    "    nostop = []\n",
    "    for line in tokenize:\n",
    "        nostop.append([word for word in line if word not in stopword_lst])\n",
    "    #------- Bi-Gram------------------------#\n",
    "    newData = []\n",
    "    for i in range(len(nostop)):\n",
    "        data = []\n",
    "        for bi in list(nltk.bigrams(nostop[i])):\n",
    "            ls = list(bi)\n",
    "            ls.sort()\n",
    "            data.append(' '.join(ls))\n",
    "        newData.append(data)\n",
    "    #------- Word Frequency ----------------#\n",
    "    wordFreq = {}\n",
    "    for line in newData:\n",
    "        for word in line:\n",
    "            if(word not in wordFreq.keys()):\n",
    "                wordFreq[word] = 0\n",
    "            wordFreq[word] += 1\n",
    "    return wordFreq"
   ]
  },
  {
   "cell_type": "code",
   "execution_count": 3,
   "id": "040bfd2b",
   "metadata": {},
   "outputs": [],
   "source": [
    "def findTopic(question, k = 1):\n",
    "    try:\n",
    "        results = seo.get_serps(question)\n",
    "    except:\n",
    "        return (\"\",[])\n",
    "    wordDict = process(results.title)\n",
    "    res = dict(sorted(wordDict.items(), key = itemgetter(1), reverse = True)[:k])\n",
    "    res = list(res.keys())\n",
    "    res.sort()\n",
    "    res = ' '.join(res)\n",
    "    return (res,list(results.link)[:3])"
   ]
  },
  {
   "cell_type": "code",
   "execution_count": 4,
   "id": "048fc2dc",
   "metadata": {
    "scrolled": true
   },
   "outputs": [
    {
     "data": {
      "text/plain": [
       "{'P1.Q1': 'Q.1 Explain the following file allocation methods with suitable diagram(s): (5) (a) Linked allocation (b) Indexed allocation',\n",
       " 'P1.Q2': 'Q.2 Differentiate between peer-to-peer and client-server computing (5) environments.',\n",
       " 'P1.Q3': \"Q.3 (a) Write and explain the pseudo-code/algorithm/program of (5) Peterson's Solution used for accessing the critical section by two co-operating processes.  (5)\",\n",
       " 'P1.Q4': 'Q.4 On a system with n CPUs, what is the minimum number of processes that (5) can be in the ready, run, and blocked states? Explain with a suitable process state diagram.',\n",
       " 'P1.Q5': 'Q.5 A system has three processes and four identical resources. Each process (5) needs a maximum of three resources to complete. Is deadlock possible? Explain your answer.',\n",
       " 'P2.Q1': 'Q.6 Define concurrency and race condition.',\n",
       " 'P2.Q2': 'Q.7 Consider a computer system with 264bits virtual address space and page (5) size of 1 Kbyte. The physical memory is of 64 Kbytes and the size of page table entry is 2 bytes. Calculate size of conventional page table and inverted page table. Assume addressing at a byte level.',\n",
       " 'P2.Q3': 'Q.8 Consider the information regarding multi-disk drive given below: (5) Number of platters/disk = 6 Number of surfaces/platter =2 Number of cylinders =32 Number of sectors/ track = 64 Sector capacity = 512 bytes Cylinders capacity = 393216 bytes Number of disks=2 (a) Find the capacity of multi-disk; (b) If record size is twice the size of the sector, then find the number of records that can be stored on disk?',\n",
       " 'P2.Q4': 'Q.9 With a suitable diagram, explain RAID level 0, 3, 5, (0+1), (1+0) (10)',\n",
       " 'P2.Q5': 'Q.10 You have a demand-paged system, where integers are stored in 4 bytes, (5)\\npage size is of 256 bytes, LRU page replacement is used, and each process\\nis allocated 3 frames (initially all empty). A process executes the following\\ncode:\\nint [ ] [ Arr = new int [200] [200]; //Memory allocation for 2-D Array\\nint i = 0;\\nint j = 0;\\nwhile (i++ < 200) {\\nj = 0;\\nPage I 1 \\nwhile (j++ < 200)\\nArr[i][j] = 0;\\n}\\nThe code occupies page 0 and, since a location from page 0 is referenced\\nby each instruction of given code snippet, page 0 is always swapped-in.\\nVariables i and j are stored in fast registers. How many page faults are\\ngenerated for initialization of array named Arr, assuming all elements of\\nthe array are stored in contiguous memory locations in row-major order?',\n",
       " 'P3.Q1': 'Q.11 With a suitable depiction, explain the concept of Hashed Page Table. (05) ',\n",
       " 'P3.Q2': 'Q.12 Given reference to the following pages by a program, (10)\\n0, 9, 0, 1, 8, 1, 8, 7, 8, 7, 1, 2, 8, 2, 7, 8, 2, 3, 8, 3\\nWith the help of a suitable depiction, comment on the count of page faults\\nthat will occur if the program has three page frames (initially empty)\\navailable to it and uses Optimal page replacement algorithm. ',\n",
       " 'P3.Q3': 'Q.13 On a disk with 1000 cylinders, numbers 0 to 999, compute the number of (10)\\ntracks the disk arm must move to satisfy all the requests in the disk queue.\\nThe disk queue contains requests for the following tracks: 123, 874, 692,\\n475, 105, 376. Assume the last request serviced was at track 345 and the\\nhead is moving towards track 0.\\nPerform the computation for the following disk scheduling algorithms:\\n(a) SCAN (b) LOOK (c) C-SCAN (d) C-LOOK ',\n",
       " 'P3.Q4': 'Consider a disk drive system with 8 platters (with one surface only), (10)\\nwhere each surface is having an outer diameter of 16 cm and an inner\\ndiameter of 6 cm and the track width is 0.2 mm. There are 32 sectors in\\neach track. If the disk addresses for reading a byte of a sector on track of\\nthe platter is 27 bits:\\n(a) What is the sector size in bytes?\\n(b) If the disk rotates at 3600 rpm, what is the effective data transfer\\nrate (for a track) in byte/sec? ',\n",
       " 'P3.Q5': 'Consider a system with the following current resource-allocation state: (10)\\nThere are five processes: Po, P1, P2, P3, P4 and three resource types: A, B and\\nC. For each process, the current allocation and the maximum required\\nallocation are given by the Allocation and MAX matrices respectively. The\\ncurrent available resources are given by the Available vector.\\nAllocation\\nABC\\nMAX\\nA B C\\nAvailable\\nA B C\\nPo 1 1 2 4 3 3 2 1 0\\nPi 2 1 2 3 2 2\\nP2 4 0 1 9 0 2\\nP3 0 2 0 7 5 3\\nP4 1 1 2 11 2 3\\n(a) Determine the total amount of resources of each type.\\n(b) What is the \"Need matrix\"?\\nPage 12 \\n(c) Determine if this state is \"Safe\" using the \"Safety Algorithm\".\\n(d) Starting with the allocation resource state given above, suppose the\\ncurrent request for each process is given by the Request matrix\\nbelow. Furthermore, assume that these requests are granted.\\nRequest Matrix:\\nA B C\\nPo 3 3 1\\nP1 1 1 0\\nP2 6 0 1\\nP3 7 2 3\\nP4 0 1 1\\nWill the system be in a deadlocked state? Determine this using the\\nDeadlock detection algorithm.',\n",
       " 'P4.Q1': 'Q.16  On a system with n CPUs, what is the minimum number of processes that (5)\\ncan be in the ready, run, and blocked states? Explain with a suitable\\nprocess state diagram. ',\n",
       " 'P4.Q2': 'What are advantages and disadvantages of virtual machine',\n",
       " 'P4.Q3': 'Explain process control bloc with diagram',\n",
       " 'P4.Q4': 'Consider a simple paging system with virtual address space 232bytes, page size is 1KB and size of 2\\nphysical memory is 16GB. Assume each page table entry also contains a valid/invalid bit and\\naddressing is at byte level. Calculate the size of page table showing all the steps you take to reach the\\nanswer.',\n",
       " 'P4.Q5': 'With a suitable depiction explain the concept of using inverted page table for narrowing the 3\\nrequirement of RAM for storing the page table. ',\n",
       " 'P5.Q1': ' Consider a paging system with 229 byte virtual address space, 512 byte page size and the page table 3\\nentry of 4 bytes in all page tables. A multilevel page table is used such that each page table is\\nconstrained to take size equivalent to one page. Answer the following questions, showing all the\\nintermediate steps.\\na) Calculate the size of page tables at each level?\\nb) In multilevel paging, combined size of all the tables is greater than single level page table, and\\nit increases the memory overhead as compared to the single level paging. Do you agree with\\nthis statement? Justify your answer with a suitable explanation. ',\n",
       " 'P5.Q2': 'With a suitable diagram show the translation of the logical address into physical address using TLB. 4\\nIn a paging system with TLB, it takes 30 ns to search the TLB and 90 ns to access the memory. If the\\nTLB hit ratio is 70%, find the effective memory access time',\n",
       " 'P5.Q3': 'onsider a system with the following set of processes, where arrival time and CPU- (2+2)\\nburst time are in milliseconds. Compute the average turnaround time for the system\\ntaking pre-emptive shortest job first (SJF) algorithm.\\nProcess Arrival Time Burst Time\\nPi 0 5\\nP2 1 3\\nP3 2 3\\nP4 4 1\\nb. Consider three processes, all arriving at time zero, with total execution time (CPU and\\nI/O) of 10, 20 and 30 units, respectively. Each process spends the first 20% of\\nexecution time doing I/O, the next 70% of time doing computation, and the last 10%\\nof time doing 1/0 again. The operating system uses a SJF scheduling algorithm and\\nschedules a new process either when the running process gets blocked on I/O or when\\nthe running process finishes its compute burst. Assume that all I/O operations can be\\noverlap',\n",
       " 'P5.Q4': 'Explain the role of MBR and POST in context of the steps that a computer follows (2+2)\\nafter getting the power supply.',\n",
       " 'P5.Q5': 'With a suitable depiction, explain multi-threading models.\\nb. List Pros and Cons of Microkernel-based architecture and Layered approach for\\ndesigning an operating system. ',\n",
       " 'P6.Q1': 'Consider the following snapshot of a system with four processes A, B, C, and D.\\nCompute the average waiting time for the Round Robin scheduling, where quantum is\\ntaken as Ims.\\nProcess Arrival Time\\n(in ms)\\nCPU Burst\\n(in ms)\\nA - 0.000 4\\nB 2.001 7\\nC 3.001 2\\nD 3.002 2\\nb. Explain the statement with proper justification: In operating systems, the context\\nswitching represents a substantial cost to the system in terms of CPU time. ',\n",
       " 'P6.Q2': 'How is protection implemented using an access matrix? Explain with suitable example.',\n",
       " 'P6.Q3': 'Compare the performance of three techniques for alloocating disk block (contigious, Linked, and indexed) for both sequentual and random file access',\n",
       " 'P6.Q4': 'What is the pupose if interrupts? what are the diffrences between a trap and an interrupt? can trap be generated intenionally by the user? if so for what purpose?',\n",
       " 'P6.Q5': 'What is the puspose of the command interpreter? why is it usually seperate from kernel? Would it be possible for the user to develop a new command interpreter using the system-call interface provided by the operating system?'}"
      ]
     },
     "execution_count": 4,
     "metadata": {},
     "output_type": "execute_result"
    }
   ],
   "source": [
    "with open('paper2.txt') as f:\n",
    "    data = f.read()\n",
    "import ast\n",
    "paper = ast.literal_eval(data)\n",
    "paper"
   ]
  },
  {
   "cell_type": "code",
   "execution_count": 5,
   "id": "3a2fef5c",
   "metadata": {},
   "outputs": [],
   "source": [
    "def fetchOnlineAns(paper):\n",
    "    paper_topics = {}\n",
    "    topic_qnNo = {}\n",
    "    def searchTopic(key):\n",
    "        paper_topics[key] = findTopic(paper[key])\n",
    "        if len(paper_topics[key][1])==0:\n",
    "            return\n",
    "        if paper_topics[key][0] not in topic_qnNo.keys():\n",
    "            topic_qnNo[paper_topics[key][0]] = []\n",
    "        topic_qnNo[paper_topics[key][0]].append(key)\n",
    "\n",
    "    threads=[]\n",
    "    for key in list(paper.keys()):\n",
    "        t = threading.Thread(target=searchTopic, args=[key])\n",
    "        t.start()\n",
    "        threads.append(t)\n",
    "    for t in threads:\n",
    "        t.join()\n",
    "        time.sleep(0.1)\n",
    "    marklist = sorted(topic_qnNo.items(), key=lambda x:len(x[1]), reverse=True)\n",
    "    topicData = [[tup[0],' '.join(tup[1])] for tup in marklist]\n",
    "    qNumbers=list(paper.keys())\n",
    "    qNumbers.sort()\n",
    "    linkData = [[qn,paper[qn]]+paper_topics[qn][1] for qn in qNumbers]\n",
    "    return {'links':linkData,'topics':topicData}"
   ]
  },
  {
   "cell_type": "code",
   "execution_count": 6,
   "id": "7b016db3",
   "metadata": {},
   "outputs": [],
   "source": [
    "data={\n",
    "  \"P1.Q1\": \"(b) \\\"Transactions; the basic units of human communication, are outcomes of our ego-states Explain this statement in the light of\",\n",
    "  \"P1.Q3\": \"What is the main objective of writing a Proposal? What structure sho be followed for writing an effective proposal? (300-350 wor\",\n",
    "  \"P1.Q2\": \"2 Good business writing involves selecting the right words and for correct sentences: Illustrate with the help of suitable examples:\",\n",
    "  \"P1.Q5\": \"A friend of yours is the Managing Director of Shah Textile Corporation Shaheed Marg; Surat He has suggested that you apply for the post of ar Engineer in the sister concern called Mehta Engineering Works, Gokhale Marg, Pune\",\n",
    "  \"P1.Q8\": \"Q6 A popular advertisement says: \\\"You no longer need words to 10 communicate. Justify   the statement in the context   of   non-verbal communication: (300-350 words)\",\n",
    "  \"P1.Q6\": \"Dai &co TUi Uceo ALLCLLL=40 C~C ACECL (Assume any other necessary details ) (300-350 wor\",\n",
    "  \"P1.Q7\": \"(a) When you are sending a message, what are the possible languag related barriers that you might face? (125- 150 words (b) How can an organization ensure that both upward and downwar channels of communication are effective? (125-150 words\",\n",
    "  \"P1.Q4\": \"be followed for writing an effective proposal? (300-350 words) 04 A friend of yours is the Managing Director of Shah Textile Corporation; Shaheed Marg Surat He has suggested that you apply for the post of an Engineer in the sister concern called Mehta Engineering Works, Gokhale Marg Pune Draft a resume for the job Attach it with a Cover letter: (Assume any other necessary details ) (300-350 words) Q5 (a) When you are sending a message; what are the possible language- related barriers that you might face? (125-150 words)\"\n",
    "}"
   ]
  },
  {
   "cell_type": "code",
   "execution_count": 21,
   "id": "b2926a5a",
   "metadata": {},
   "outputs": [],
   "source": [
    "data={\n",
    "  \"P1.Q3\": \"2 Define a report? What are the characteristics ofa good report? (150 words)\",\n",
    "  \"P1.Q2\": \"(b) What should you keep in mind while drafting a sentence? (150 words\",\n",
    "  \"P1.Q1\": \"21 (a) What should you keep in mind while choosing yOur words for business writing? (150 Words) (5)\",\n",
    "  \"P1.Q4\": \"Q3 What are the different types of proposals? Explain the 5Ws and 1H as princip proposal writing? (150 words)\",\n",
    "  \"P1.Q6\": \"25 Why is training in Non-Verbal Communication necessary for professions like engineering? How can it be used effectively to one'$ advantage? (300 wor\",\n",
    "  \"P1.Q7\": \"Q6 Distinguish between formal and informal communication networks in organizations? Whatare the objectives of downward and upward channels communication? (300 words)\",\n",
    "  \"P1.Q5\": \"Attach it with & cover letter: (250 words) Wanted a Deputy General Manager (Operations) at our new office in Place, New Delhi, India: Engineering graduates with minimum 7 years experience can apply: Salary is negotiable: Apply with particulars to 650 Puni Hlovd td New Delhi 110001 latest by 7th December, 2016.\"\n",
    "}"
   ]
  },
  {
   "cell_type": "code",
   "execution_count": 22,
   "id": "d759cfd6",
   "metadata": {},
   "outputs": [
    {
     "name": "stdout",
     "output_type": "stream",
     "text": [
      "CPU times: user 590 ms, sys: 44.3 ms, total: 634 ms\n",
      "Wall time: 4.27 s\n"
     ]
    },
    {
     "data": {
      "text/plain": [
       "{'links': [['P1.Q1',\n",
       "   '21 (a) What should you keep in mind while choosing yOur words for business writing? (150 Words) (5)',\n",
       "   'https://www.wordstream.com/blog/ws/2014/08/07/improve-writing-skills',\n",
       "   'https://self-publishingschool.com/how-to-write-a-book/',\n",
       "   'https://ieltsliz.com/how-many-words-ielts-writing/'],\n",
       "  ['P1.Q2',\n",
       "   '(b) What should you keep in mind while drafting a sentence? (150 words',\n",
       "   'https://opentextbc.ca/writingforsuccess/chapter/chapter-3-putting-ideas-into-your-own-words-and-paragraphs/',\n",
       "   'https://saylordotorg.github.io/text_business-english-for-success/s11-the-writing-process-how-do-i-b.html',\n",
       "   'https://www.scribbr.com/academic-writing/writing-process/'],\n",
       "  ['P1.Q3',\n",
       "   '2 Define a report? What are the characteristics ofa good report? (150 words)',\n",
       "   'https://www.lkouniv.ac.in/site/writereaddata/siteContent/202004080628301891arvind_BRM_Report_Writing.pdf',\n",
       "   'https://www.yourarticlelibrary.com/company/drafting/top-11-characteristics-of-a-good-report/75197',\n",
       "   'https://financialcrimeacademy.org/characteristics-of-a-good-report/'],\n",
       "  ['P1.Q4',\n",
       "   'Q3 What are the different types of proposals? Explain the 5Ws and 1H as princip proposal writing? (150 words)'],\n",
       "  ['P1.Q5',\n",
       "   'Attach it with & cover letter: (250 words) Wanted a Deputy General Manager (Operations) at our new office in Place, New Delhi, India: Engineering graduates with minimum 7 years experience can apply: Salary is negotiable: Apply with particulars to 650 Puni Hlovd td New Delhi 110001 latest by 7th December, 2016.'],\n",
       "  ['P1.Q6',\n",
       "   \"25 Why is training in Non-Verbal Communication necessary for professions like engineering? How can it be used effectively to one'$ advantage? (300 wor\"],\n",
       "  ['P1.Q7',\n",
       "   'Q6 Distinguish between formal and informal communication networks in organizations? Whatare the objectives of downward and upward channels communication? (300 words)',\n",
       "   'https://keydifferences.com/difference-between-formal-and-informal-communication.html',\n",
       "   'https://www.javatpoint.com/formal-vs-informal-communication',\n",
       "   'https://www.naukri.com/learning/articles/difference-between-formal-and-informal-communication/']],\n",
       " 'topics': [['process writing', 'P1.Q2'],\n",
       "  ['characteristics good', 'P1.Q3'],\n",
       "  ['communication informal', 'P1.Q7'],\n",
       "  ['improve ways', 'P1.Q1']]}"
      ]
     },
     "execution_count": 22,
     "metadata": {},
     "output_type": "execute_result"
    }
   ],
   "source": [
    "%%time\n",
    "fetchOnlineAns(data)"
   ]
  },
  {
   "cell_type": "code",
   "execution_count": null,
   "id": "c0d8ddcb",
   "metadata": {},
   "outputs": [],
   "source": []
  }
 ],
 "metadata": {
  "kernelspec": {
   "display_name": "Python 3 (ipykernel)",
   "language": "python",
   "name": "python3"
  },
  "language_info": {
   "codemirror_mode": {
    "name": "ipython",
    "version": 3
   },
   "file_extension": ".py",
   "mimetype": "text/x-python",
   "name": "python",
   "nbconvert_exporter": "python",
   "pygments_lexer": "ipython3",
   "version": "3.9.7"
  }
 },
 "nbformat": 4,
 "nbformat_minor": 5
}
