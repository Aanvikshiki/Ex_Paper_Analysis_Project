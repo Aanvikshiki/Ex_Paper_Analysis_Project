{
 "cells": [
  {
   "cell_type": "code",
   "execution_count": 6,
   "id": "7042c639",
   "metadata": {},
   "outputs": [],
   "source": [
    "from googlesearch import search"
   ]
  },
  {
   "cell_type": "code",
   "execution_count": 13,
   "id": "43af27fb",
   "metadata": {},
   "outputs": [
    {
     "name": "stdout",
     "output_type": "stream",
     "text": [
      "https://www.geeksforgeeks.org/difference-between-deadlock-prevention-and-deadlock-avoidance/\n",
      "https://pediaa.com/what-is-the-difference-between-deadlock-prevention-and-deadlock-avoidance/\n",
      "https://www.ques10.com/p/3728/what-is-the-difference-between-deadlock-preventi-1/\n",
      "https://www.ques10.com/p/3728/what-is-the-difference-between-deadlock-preventi-1/\n"
     ]
    }
   ],
   "source": [
    "qt = \"How does deadlock prevention differ from deadlock aviodence\"\n",
    " \n",
    "for link in search(qt, num_results=2):\n",
    "    print(link)"
   ]
  },
  {
   "cell_type": "code",
   "execution_count": null,
   "id": "437d0f86",
   "metadata": {},
   "outputs": [],
   "source": []
  }
 ],
 "metadata": {
  "kernelspec": {
   "display_name": "Python 3 (ipykernel)",
   "language": "python",
   "name": "python3"
  },
  "language_info": {
   "codemirror_mode": {
    "name": "ipython",
    "version": 3
   },
   "file_extension": ".py",
   "mimetype": "text/x-python",
   "name": "python",
   "nbconvert_exporter": "python",
   "pygments_lexer": "ipython3",
   "version": "3.9.7"
  }
 },
 "nbformat": 4,
 "nbformat_minor": 5
}
