{
 "cells": [
  {
   "cell_type": "code",
   "execution_count": 10,
   "id": "5745089a",
   "metadata": {},
   "outputs": [
    {
     "name": "stdout",
     "output_type": "stream",
     "text": [
      "Collecting ecommercetools\n",
      "  Downloading ecommercetools-0.42.4-py3-none-any.whl (48 kB)\n",
      "\u001b[2K     \u001b[90m━━━━━━━━━━━━━━━━━━━━━━━━━━━━━━━━━━━━━━━\u001b[0m \u001b[32m48.4/48.4 kB\u001b[0m \u001b[31m497.3 kB/s\u001b[0m eta \u001b[36m0:00:00\u001b[0ma \u001b[36m0:00:01\u001b[0m\n",
      "\u001b[?25hCollecting gapandas\n",
      "  Downloading gapandas-1.0-py3-none-any.whl (12 kB)\n",
      "Requirement already satisfied: pandas in /Users/gauravbaweja/miniforge3/lib/python3.9/site-packages (from ecommercetools) (1.4.1)\n",
      "Requirement already satisfied: requests in /Users/gauravbaweja/miniforge3/lib/python3.9/site-packages (from ecommercetools) (2.25.1)\n",
      "Collecting requests-html\n",
      "  Downloading requests_html-0.10.0-py3-none-any.whl (13 kB)\n",
      "Collecting transformers\n",
      "  Downloading transformers-4.24.0-py3-none-any.whl (5.5 MB)\n",
      "\u001b[2K     \u001b[90m━━━━━━━━━━━━━━━━━━━━━━━━━━━━━━━━━━━━━━━━\u001b[0m \u001b[32m5.5/5.5 MB\u001b[0m \u001b[31m2.3 MB/s\u001b[0m eta \u001b[36m0:00:00\u001b[0m00:01\u001b[0m00:01\u001b[0m\n",
      "\u001b[?25hCollecting torch\n",
      "  Downloading torch-1.13.0-cp39-none-macosx_11_0_arm64.whl (55.7 MB)\n",
      "\u001b[2K     \u001b[90m━━━━━━━━━━━━━━━━━━━━━━━━━━━━━━━━━━━━━━━━\u001b[0m \u001b[32m55.7/55.7 MB\u001b[0m \u001b[31m2.3 MB/s\u001b[0m eta \u001b[36m0:00:00\u001b[0m00:01\u001b[0m00:01\u001b[0m\n",
      "\u001b[?25hCollecting pycausalimpact\n",
      "  Downloading pycausalimpact-0.1.1-py2.py3-none-any.whl (30 kB)\n",
      "Requirement already satisfied: httplib2>=0.15.0 in /Users/gauravbaweja/miniforge3/lib/python3.9/site-packages (from ecommercetools) (0.20.4)\n",
      "Requirement already satisfied: numpy in /Users/gauravbaweja/miniforge3/lib/python3.9/site-packages (from ecommercetools) (1.22.3)\n",
      "Collecting lifetimes\n",
      "  Downloading Lifetimes-0.11.3-py3-none-any.whl (584 kB)\n",
      "\u001b[2K     \u001b[90m━━━━━━━━━━━━━━━━━━━━━━━━━━━━━━━━━━━━━━━\u001b[0m \u001b[32m584.2/584.2 kB\u001b[0m \u001b[31m2.3 MB/s\u001b[0m eta \u001b[36m0:00:00\u001b[0ma \u001b[36m0:00:01\u001b[0m\n",
      "\u001b[?25hRequirement already satisfied: sklearn in /Users/gauravbaweja/miniforge3/lib/python3.9/site-packages (from ecommercetools) (0.0)\n",
      "Requirement already satisfied: pyparsing!=3.0.0,!=3.0.1,!=3.0.2,!=3.0.3,<4,>=2.4.2 in /Users/gauravbaweja/miniforge3/lib/python3.9/site-packages (from httplib2>=0.15.0->ecommercetools) (3.0.7)\n",
      "Requirement already satisfied: oauth2client in /Users/gauravbaweja/miniforge3/lib/python3.9/site-packages (from gapandas->ecommercetools) (4.1.3)\n",
      "Requirement already satisfied: google-api-python-client in /Users/gauravbaweja/miniforge3/lib/python3.9/site-packages (from gapandas->ecommercetools) (2.39.0)\n",
      "Requirement already satisfied: scipy>=1.0.0 in /Users/gauravbaweja/miniforge3/lib/python3.9/site-packages (from lifetimes->ecommercetools) (1.8.0)\n",
      "Requirement already satisfied: dill>=0.2.6 in /Users/gauravbaweja/miniforge3/lib/python3.9/site-packages (from lifetimes->ecommercetools) (0.3.4)\n",
      "Collecting autograd>=1.2.0\n",
      "  Downloading autograd-1.5-py3-none-any.whl (48 kB)\n",
      "\u001b[2K     \u001b[90m━━━━━━━━━━━━━━━━━━━━━━━━━━━━━━━━━━━━━━━━\u001b[0m \u001b[32m48.9/48.9 kB\u001b[0m \u001b[31m1.6 MB/s\u001b[0m eta \u001b[36m0:00:00\u001b[0m\n",
      "\u001b[?25hRequirement already satisfied: python-dateutil>=2.8.1 in /Users/gauravbaweja/miniforge3/lib/python3.9/site-packages (from pandas->ecommercetools) (2.8.2)\n",
      "Requirement already satisfied: pytz>=2020.1 in /Users/gauravbaweja/miniforge3/lib/python3.9/site-packages (from pandas->ecommercetools) (2022.1)\n",
      "Requirement already satisfied: jinja2>=2.10 in /Users/gauravbaweja/miniforge3/lib/python3.9/site-packages (from pycausalimpact->ecommercetools) (3.0.3)\n",
      "Collecting statsmodels>=0.11.0\n",
      "  Downloading statsmodels-0.13.5-cp39-cp39-macosx_11_0_arm64.whl (9.2 MB)\n",
      "\u001b[2K     \u001b[90m━━━━━━━━━━━━━━━━━━━━━━━━━━━━━━━━━━━━━━━━\u001b[0m \u001b[32m9.2/9.2 MB\u001b[0m \u001b[31m2.4 MB/s\u001b[0m eta \u001b[36m0:00:00\u001b[0m00:01\u001b[0m00:01\u001b[0m\n",
      "\u001b[?25hRequirement already satisfied: matplotlib>=2.2.3 in /Users/gauravbaweja/miniforge3/lib/python3.9/site-packages (from pycausalimpact->ecommercetools) (3.5.1)\n",
      "Requirement already satisfied: certifi>=2017.4.17 in /Users/gauravbaweja/miniforge3/lib/python3.9/site-packages (from requests->ecommercetools) (2021.10.8)\n",
      "Requirement already satisfied: urllib3<1.27,>=1.21.1 in /Users/gauravbaweja/miniforge3/lib/python3.9/site-packages (from requests->ecommercetools) (1.26.7)\n",
      "Requirement already satisfied: idna<3,>=2.5 in /Users/gauravbaweja/miniforge3/lib/python3.9/site-packages (from requests->ecommercetools) (2.10)\n",
      "Requirement already satisfied: chardet<5,>=3.0.2 in /Users/gauravbaweja/miniforge3/lib/python3.9/site-packages (from requests->ecommercetools) (4.0.0)\n",
      "Collecting bs4\n",
      "  Using cached bs4-0.0.1.tar.gz (1.1 kB)\n",
      "  Preparing metadata (setup.py) ... \u001b[?25ldone\n",
      "\u001b[?25hCollecting fake-useragent\n",
      "  Downloading fake_useragent-0.1.14-py3-none-any.whl (13 kB)\n",
      "Collecting pyppeteer>=0.0.14\n",
      "  Downloading pyppeteer-1.0.2-py3-none-any.whl (83 kB)\n",
      "\u001b[2K     \u001b[90m━━━━━━━━━━━━━━━━━━━━━━━━━━━━━━━━━━━━━━━━\u001b[0m \u001b[32m83.4/83.4 kB\u001b[0m \u001b[31m2.7 MB/s\u001b[0m eta \u001b[36m0:00:00\u001b[0m\n",
      "\u001b[?25hCollecting pyquery\n",
      "  Downloading pyquery-1.4.3-py3-none-any.whl (22 kB)\n",
      "Collecting w3lib\n",
      "  Downloading w3lib-2.0.1-py3-none-any.whl (20 kB)\n",
      "Collecting parse\n",
      "  Downloading parse-1.19.0.tar.gz (30 kB)\n",
      "  Preparing metadata (setup.py) ... \u001b[?25ldone\n",
      "\u001b[?25hRequirement already satisfied: scikit-learn in /Users/gauravbaweja/miniforge3/lib/python3.9/site-packages (from sklearn->ecommercetools) (1.1.0)\n",
      "Collecting typing-extensions\n",
      "  Downloading typing_extensions-4.4.0-py3-none-any.whl (26 kB)\n",
      "Requirement already satisfied: packaging>=20.0 in /Users/gauravbaweja/miniforge3/lib/python3.9/site-packages (from transformers->ecommercetools) (21.3)\n",
      "Collecting filelock\n",
      "  Downloading filelock-3.8.0-py3-none-any.whl (10 kB)\n",
      "Collecting huggingface-hub<1.0,>=0.10.0\n",
      "  Downloading huggingface_hub-0.10.1-py3-none-any.whl (163 kB)\n",
      "\u001b[2K     \u001b[90m━━━━━━━━━━━━━━━━━━━━━━━━━━━━━━━━━━━━━━━\u001b[0m \u001b[32m163.5/163.5 kB\u001b[0m \u001b[31m2.2 MB/s\u001b[0m eta \u001b[36m0:00:00\u001b[0ma \u001b[36m0:00:01\u001b[0m\n",
      "\u001b[?25hRequirement already satisfied: tqdm>=4.27 in /Users/gauravbaweja/miniforge3/lib/python3.9/site-packages (from transformers->ecommercetools) (4.62.3)\n",
      "Requirement already satisfied: regex!=2019.12.17 in /Users/gauravbaweja/miniforge3/lib/python3.9/site-packages (from transformers->ecommercetools) (2022.3.15)\n",
      "Collecting tokenizers!=0.11.3,<0.14,>=0.11.1\n",
      "  Downloading tokenizers-0.13.2-cp39-cp39-macosx_12_0_arm64.whl (3.7 MB)\n",
      "\u001b[2K     \u001b[90m━━━━━━━━━━━━━━━━━━━━━━━━━━━━━━━━━━━━━━━━\u001b[0m \u001b[32m3.7/3.7 MB\u001b[0m \u001b[31m2.4 MB/s\u001b[0m eta \u001b[36m0:00:00\u001b[0m00:01\u001b[0m00:01\u001b[0m\n",
      "\u001b[?25hCollecting pyyaml>=5.1\n",
      "  Downloading PyYAML-6.0-cp39-cp39-macosx_11_0_arm64.whl (173 kB)\n",
      "\u001b[2K     \u001b[90m━━━━━━━━━━━━━━━━━━━━━━━━━━━━━━━━━━━━━━━\u001b[0m \u001b[32m174.0/174.0 kB\u001b[0m \u001b[31m1.9 MB/s\u001b[0m eta \u001b[36m0:00:00\u001b[0ma \u001b[36m0:00:01\u001b[0m\n",
      "\u001b[?25hCollecting future>=0.15.2\n",
      "  Downloading future-0.18.2.tar.gz (829 kB)\n",
      "\u001b[2K     \u001b[90m━━━━━━━━━━━━━━━━━━━━━━━━━━━━━━━━━━━━━━━\u001b[0m \u001b[32m829.2/829.2 kB\u001b[0m \u001b[31m2.3 MB/s\u001b[0m eta \u001b[36m0:00:00\u001b[0m00:01\u001b[0m00:01\u001b[0m\n",
      "\u001b[?25h  Preparing metadata (setup.py) ... \u001b[?25ldone\n",
      "\u001b[?25hRequirement already satisfied: MarkupSafe>=2.0 in /Users/gauravbaweja/miniforge3/lib/python3.9/site-packages (from jinja2>=2.10->pycausalimpact->ecommercetools) (2.1.1)\n",
      "Requirement already satisfied: pillow>=6.2.0 in /Users/gauravbaweja/miniforge3/lib/python3.9/site-packages (from matplotlib>=2.2.3->pycausalimpact->ecommercetools) (9.0.1)\n",
      "Requirement already satisfied: fonttools>=4.22.0 in /Users/gauravbaweja/miniforge3/lib/python3.9/site-packages (from matplotlib>=2.2.3->pycausalimpact->ecommercetools) (4.29.1)\n",
      "Requirement already satisfied: kiwisolver>=1.0.1 in /Users/gauravbaweja/miniforge3/lib/python3.9/site-packages (from matplotlib>=2.2.3->pycausalimpact->ecommercetools) (1.3.2)\n",
      "Requirement already satisfied: cycler>=0.10 in /Users/gauravbaweja/miniforge3/lib/python3.9/site-packages (from matplotlib>=2.2.3->pycausalimpact->ecommercetools) (0.11.0)\n",
      "Collecting importlib-metadata>=1.4\n",
      "  Downloading importlib_metadata-5.0.0-py3-none-any.whl (21 kB)\n",
      "Collecting appdirs<2.0.0,>=1.4.3\n",
      "  Downloading appdirs-1.4.4-py2.py3-none-any.whl (9.6 kB)\n",
      "Collecting pyee<9.0.0,>=8.1.0\n",
      "  Downloading pyee-8.2.2-py2.py3-none-any.whl (12 kB)\n",
      "Collecting websockets<11.0,>=10.0\n",
      "  Downloading websockets-10.4-cp39-cp39-macosx_11_0_arm64.whl (97 kB)\n",
      "\u001b[2K     \u001b[90m━━━━━━━━━━━━━━━━━━━━━━━━━━━━━━━━━━━━━━━━\u001b[0m \u001b[32m97.9/97.9 kB\u001b[0m \u001b[31m2.0 MB/s\u001b[0m eta \u001b[36m0:00:00\u001b[0ma \u001b[36m0:00:01\u001b[0m\n",
      "\u001b[?25hRequirement already satisfied: six>=1.5 in /Users/gauravbaweja/miniforge3/lib/python3.9/site-packages (from python-dateutil>=2.8.1->pandas->ecommercetools) (1.16.0)\n"
     ]
    },
    {
     "name": "stdout",
     "output_type": "stream",
     "text": [
      "Collecting patsy>=0.5.2\n",
      "  Downloading patsy-0.5.3-py2.py3-none-any.whl (233 kB)\n",
      "\u001b[2K     \u001b[90m━━━━━━━━━━━━━━━━━━━━━━━━━━━━━━━━━━━━━━━\u001b[0m \u001b[32m233.8/233.8 kB\u001b[0m \u001b[31m2.2 MB/s\u001b[0m eta \u001b[36m0:00:00\u001b[0ma \u001b[36m0:00:01\u001b[0m\n",
      "\u001b[?25hRequirement already satisfied: beautifulsoup4 in /Users/gauravbaweja/miniforge3/lib/python3.9/site-packages (from bs4->requests-html->ecommercetools) (4.9.3)\n",
      "Requirement already satisfied: google-auth<3.0.0dev,>=1.16.0 in /Users/gauravbaweja/miniforge3/lib/python3.9/site-packages (from google-api-python-client->gapandas->ecommercetools) (2.6.0)\n",
      "Requirement already satisfied: uritemplate<5,>=3.0.1 in /Users/gauravbaweja/miniforge3/lib/python3.9/site-packages (from google-api-python-client->gapandas->ecommercetools) (4.1.1)\n",
      "Requirement already satisfied: google-auth-httplib2>=0.1.0 in /Users/gauravbaweja/miniforge3/lib/python3.9/site-packages (from google-api-python-client->gapandas->ecommercetools) (0.1.0)\n",
      "Requirement already satisfied: google-api-core<3.0.0dev,>=1.21.0 in /Users/gauravbaweja/miniforge3/lib/python3.9/site-packages (from google-api-python-client->gapandas->ecommercetools) (2.7.1)\n",
      "Requirement already satisfied: pyasn1>=0.1.7 in /Users/gauravbaweja/miniforge3/lib/python3.9/site-packages (from oauth2client->gapandas->ecommercetools) (0.4.8)\n",
      "Requirement already satisfied: pyasn1-modules>=0.0.5 in /Users/gauravbaweja/miniforge3/lib/python3.9/site-packages (from oauth2client->gapandas->ecommercetools) (0.2.8)\n",
      "Requirement already satisfied: rsa>=3.1.4 in /Users/gauravbaweja/miniforge3/lib/python3.9/site-packages (from oauth2client->gapandas->ecommercetools) (4.8)\n",
      "Collecting cssselect>0.7.9\n",
      "  Downloading cssselect-1.2.0-py2.py3-none-any.whl (18 kB)\n",
      "Requirement already satisfied: lxml>=2.1 in /Users/gauravbaweja/miniforge3/lib/python3.9/site-packages (from pyquery->requests-html->ecommercetools) (4.9.1)\n",
      "Requirement already satisfied: joblib>=1.0.0 in /Users/gauravbaweja/miniforge3/lib/python3.9/site-packages (from scikit-learn->sklearn->ecommercetools) (1.1.0)\n",
      "Requirement already satisfied: threadpoolctl>=2.0.0 in /Users/gauravbaweja/miniforge3/lib/python3.9/site-packages (from scikit-learn->sklearn->ecommercetools) (3.1.0)\n",
      "Requirement already satisfied: googleapis-common-protos<2.0dev,>=1.52.0 in /Users/gauravbaweja/miniforge3/lib/python3.9/site-packages (from google-api-core<3.0.0dev,>=1.21.0->google-api-python-client->gapandas->ecommercetools) (1.55.0)\n",
      "Requirement already satisfied: protobuf>=3.12.0 in /Users/gauravbaweja/miniforge3/lib/python3.9/site-packages (from google-api-core<3.0.0dev,>=1.21.0->google-api-python-client->gapandas->ecommercetools) (3.19.4)\n",
      "Requirement already satisfied: cachetools<6.0,>=2.0.0 in /Users/gauravbaweja/miniforge3/lib/python3.9/site-packages (from google-auth<3.0.0dev,>=1.16.0->google-api-python-client->gapandas->ecommercetools) (5.0.0)\n",
      "Collecting zipp>=0.5\n",
      "  Downloading zipp-3.10.0-py3-none-any.whl (6.2 kB)\n",
      "Requirement already satisfied: soupsieve>1.2 in /Users/gauravbaweja/miniforge3/lib/python3.9/site-packages (from beautifulsoup4->bs4->requests-html->ecommercetools) (2.3.1)\n",
      "Building wheels for collected packages: bs4, parse, future\n",
      "  Building wheel for bs4 (setup.py) ... \u001b[?25ldone\n",
      "\u001b[?25h  Created wheel for bs4: filename=bs4-0.0.1-py3-none-any.whl size=1272 sha256=8d3b993a2a8a4404b668aa0fe3394a4806efd370b1ed69958dbe74da558c05f2\n",
      "  Stored in directory: /Users/gauravbaweja/Library/Caches/pip/wheels/8b/ac/c5/cb646ab01df6f353a9994b1c97dffb94f9b12013d64c162c58\n",
      "  Building wheel for parse (setup.py) ... \u001b[?25ldone\n",
      "\u001b[?25h  Created wheel for parse: filename=parse-1.19.0-py3-none-any.whl size=24591 sha256=d00bf46b6f9b16fab3869e31d4061d2daaae7ff64047502f613a6e8db9cadc23\n",
      "  Stored in directory: /Users/gauravbaweja/Library/Caches/pip/wheels/13/37/a2/e4bbb20a9e1bcb7643e432f71f513ea1fc1fb7f8a1cc718a2f\n",
      "  Building wheel for future (setup.py) ... \u001b[?25ldone\n",
      "\u001b[?25h  Created wheel for future: filename=future-0.18.2-py3-none-any.whl size=491070 sha256=c2a1e84b0c8590933864de244877b0b3f56ce215a57f07e9650c067b4aca7f43\n",
      "  Stored in directory: /Users/gauravbaweja/Library/Caches/pip/wheels/96/66/19/2de75120f5d0bc185e9d16cf0fd223d8471ed025de08e45867\n",
      "Successfully built bs4 parse future\n",
      "Installing collected packages: tokenizers, pyee, parse, fake-useragent, appdirs, zipp, websockets, w3lib, typing-extensions, pyyaml, patsy, future, filelock, cssselect, torch, pyquery, importlib-metadata, huggingface-hub, bs4, autograd, transformers, statsmodels, pyppeteer, lifetimes, requests-html, pycausalimpact, gapandas, ecommercetools\n",
      "Successfully installed appdirs-1.4.4 autograd-1.5 bs4-0.0.1 cssselect-1.2.0 ecommercetools-0.42.4 fake-useragent-0.1.14 filelock-3.8.0 future-0.18.2 gapandas-1.0 huggingface-hub-0.10.1 importlib-metadata-5.0.0 lifetimes-0.11.3 parse-1.19.0 patsy-0.5.3 pycausalimpact-0.1.1 pyee-8.2.2 pyppeteer-1.0.2 pyquery-1.4.3 pyyaml-6.0 requests-html-0.10.0 statsmodels-0.13.5 tokenizers-0.13.2 torch-1.13.0 transformers-4.24.0 typing-extensions-4.4.0 w3lib-2.0.1 websockets-10.4 zipp-3.10.0\n"
     ]
    }
   ],
   "source": [
    "!pip install ecommercetools"
   ]
  },
  {
   "cell_type": "code",
   "execution_count": 1,
   "id": "6270d26f",
   "metadata": {},
   "outputs": [
    {
     "name": "stdout",
     "output_type": "stream",
     "text": [
      "   position                                              title  \\\n",
      "0         1  Difference between Deadlock Prevention and ......   \n",
      "1         2  Difference between Deadlock Prevention ... - G...   \n",
      "2         3  What is the Difference Between Deadlock ... - ...   \n",
      "3         4  What the difference between deadlock avoidance...   \n",
      "4         5  The Difference Between Deadlock Prevention and...   \n",
      "5         6        DIFFERENCES BETWEEN DEADLOCK PREVENTION ...   \n",
      "6         7      Deadlock Prevention, Avoidance, and Detection   \n",
      "7         8  What is the difference between deadlock preven...   \n",
      "\n",
      "                                                link  \\\n",
      "0  https://www.javatpoint.com/deadlock-prevention...   \n",
      "1  https://www.geeksforgeeks.org/difference-betwe...   \n",
      "2  https://pediaa.com/what-is-the-difference-betw...   \n",
      "3  https://stackoverflow.com/questions/2485608/wh...   \n",
      "4  https://www.cs.jhu.edu/~yairamir/cs418/os4/tsl...   \n",
      "5  http://smkhan005.blogspot.com/2015/06/differen...   \n",
      "6   https://cs.txstate.edu/~xc10/ad-os/Deadlocks.ppt   \n",
      "7  https://www.quora.com/What-is-the-difference-b...   \n",
      "\n",
      "                                                text  \\\n",
      "0                                                      \n",
      "1  25-Oct-2022 — In deadlock avoidance there is n...   \n",
      "2  20-Jun-2019 — The main difference between dead...   \n",
      "3  This explanation is not complete and correct. ...   \n",
      "4  Deadlock Avoidance: · The system dynamically c...   \n",
      "5  DIFFERENCES BETWEEN DEADLOCK PREVENTION, AVOID...   \n",
      "6  In a computer system deadlocks arise when memb...   \n",
      "7  Clearly and concisely: · Deadlock avoidance tr...   \n",
      "\n",
      "                                                bold  \n",
      "0                                                     \n",
      "1          deadlock avoidance there is no preemption  \n",
      "2  the deadlock prevention ensures that at least ...  \n",
      "3  deadlock avoidance is about being in a safe st...  \n",
      "4  the system dynamically considers every request...  \n",
      "5  the goal is to ensure that at least one of the...  \n",
      "6  deadlocks arise when members of a group of pro...  \n",
      "7  deadlock avoidance tries to ensure that no loc...  \n"
     ]
    }
   ],
   "source": [
    "from ecommercetools import seo\n",
    "keyword = \"How does deadlock prevention differ from deadlock aviodence?\"\n",
    "results = seo.get_serps(keyword)\n",
    "print(results)"
   ]
  },
  {
   "cell_type": "code",
   "execution_count": 28,
   "id": "1e788864",
   "metadata": {},
   "outputs": [
    {
     "name": "stdout",
     "output_type": "stream",
     "text": [
      "['Difference between Deadlock Prevention and ... - Javatpoint', 'Difference between Deadlock Prevention ... - GeeksforGeeks', 'What is the Difference Between Deadlock ... - Pediaa.Com', 'What the difference between deadlock avoidance and ...', 'The Difference Between Deadlock Prevention and ... - JHU CS', 'DIFFERENCES BETWEEN DEADLOCK PREVENTION ...', 'Deadlock Prevention, Avoidance, and Detection', 'What is the difference between deadlock prevention ... - Quora']\n"
     ]
    }
   ],
   "source": [
    "print(list(results.title))"
   ]
  },
  {
   "cell_type": "code",
   "execution_count": 27,
   "id": "fe1ef473",
   "metadata": {},
   "outputs": [
    {
     "name": "stdout",
     "output_type": "stream",
     "text": [
      "['https://www.javatpoint.com/deadlock-prevention-vs-deadlock-avoidance-in-operating-system', 'https://www.geeksforgeeks.org/difference-between-deadlock-prevention-and-deadlock-avoidance/', 'https://pediaa.com/what-is-the-difference-between-deadlock-prevention-and-deadlock-avoidance/', 'https://stackoverflow.com/questions/2485608/what-the-difference-between-deadlock-avoidance-and-deadlock-prevention', 'https://www.cs.jhu.edu/~yairamir/cs418/os4/tsld011.htm', 'http://smkhan005.blogspot.com/2015/06/differences-between-deadlock-prevention.html', 'https://cs.txstate.edu/~xc10/ad-os/Deadlocks.ppt', 'https://www.quora.com/What-is-the-difference-between-deadlock-prevention-and-deadlock-avoidance']\n"
     ]
    }
   ],
   "source": [
    "print(list(results.link))"
   ]
  },
  {
   "cell_type": "code",
   "execution_count": 24,
   "id": "bfdcf25c",
   "metadata": {},
   "outputs": [
    {
     "name": "stdout",
     "output_type": "stream",
     "text": [
      "Difference between Deadlock Prevention and ... - Javatpoint\n"
     ]
    }
   ],
   "source": [
    "print(results.title[0])"
   ]
  },
  {
   "cell_type": "code",
   "execution_count": 25,
   "id": "a6ac969b",
   "metadata": {},
   "outputs": [
    {
     "name": "stdout",
     "output_type": "stream",
     "text": [
      "https://www.javatpoint.com/deadlock-prevention-vs-deadlock-avoidance-in-operating-system\n"
     ]
    }
   ],
   "source": [
    "print(results.link[0])"
   ]
  },
  {
   "cell_type": "code",
   "execution_count": 6,
   "id": "599edd11",
   "metadata": {},
   "outputs": [],
   "source": [
    "qt = \"How does deadlock prevention differ from deadlock aviodence?\""
   ]
  },
  {
   "cell_type": "code",
   "execution_count": 39,
   "id": "cc78cbd0",
   "metadata": {},
   "outputs": [
    {
     "data": {
      "text/plain": [
       "['how',\n",
       " 'does',\n",
       " 'deadlock',\n",
       " 'prevention',\n",
       " 'differ',\n",
       " 'from',\n",
       " 'deadlock',\n",
       " 'aviodence']"
      ]
     },
     "execution_count": 39,
     "metadata": {},
     "output_type": "execute_result"
    }
   ],
   "source": [
    "paper_qn_normalize = (' '.join([''.join([ch.lower() for ch in word if ch.isalpha()]) for word in qt.split()]))\n",
    "paper_qn = paper_qn_normalize.split()\n",
    "paper_qn"
   ]
  },
  {
   "cell_type": "code",
   "execution_count": 2,
   "id": "af692327",
   "metadata": {},
   "outputs": [],
   "source": [
    "import pandas as pd\n",
    "import ast\n",
    "import nltk\n",
    "from nltk import word_tokenize\n",
    "from nltk.corpus import *\n",
    "from sklearn.feature_extraction.text import TfidfVectorizer\n",
    "from nltk.stem import PorterStemmer\n",
    "import time\n",
    "from operator import itemgetter\n",
    "from ecommercetools import seo"
   ]
  },
  {
   "cell_type": "code",
   "execution_count": 3,
   "id": "676e0e51",
   "metadata": {},
   "outputs": [],
   "source": [
    "def process(content):\n",
    "    #------- NORMALIZATION ----------------#\n",
    "    normalize = []\n",
    "    for line in content:\n",
    "        normalize.append(' '.join([''.join([ch.lower() for ch in word if ch.isalpha()]) for word in line.split()]))\n",
    "    #------- TOKENIZATION ----------------#\n",
    "    tokenize = []\n",
    "    for line in normalize:\n",
    "        tokenize.append(nltk.word_tokenize(line))\n",
    "    #------- STOPWORD REMOVAL ----------------#\n",
    "    stopword_lst = nltk.corpus.stopwords.words(fileids='english')\n",
    "    nostop = []\n",
    "    for line in tokenize:\n",
    "        nostop.append([word for word in line if word not in stopword_lst])\n",
    "    #------- Word Frequency ----------------#\n",
    "    wordFreq = {}\n",
    "    for line in nostop:\n",
    "        for word in line:\n",
    "            if(word not in wordFreq.keys()):\n",
    "                wordFreq[word] = 0\n",
    "            wordFreq[word] += 1\n",
    "    \n",
    "    return wordFreq"
   ]
  },
  {
   "cell_type": "code",
   "execution_count": 10,
   "id": "ac4382de",
   "metadata": {},
   "outputs": [],
   "source": [
    "def findTopic(question):\n",
    "    try:\n",
    "        results = seo.get_serps(question)\n",
    "    except:\n",
    "        return \"\"\n",
    "    wordDict = process(results.title)\n",
    "    paper_qn_normalize = (' '.join([''.join([ch.lower() for ch in word if ch.isalpha()]) for word in question.split()]))\n",
    "    paper_qn = paper_qn_normalize.split()\n",
    "    #dataDict = {word:wordDict[word] for word in paper_qn if word in wordDict.keys()}\n",
    "    k = 4\n",
    "    res = dict(sorted(wordDict.items(), key = itemgetter(1), reverse = True)[:k])\n",
    "    res = list(res.keys())\n",
    "    res = ' '.join(res)\n",
    "    return res,list(results.link)[:3]"
   ]
  },
  {
   "cell_type": "code",
   "execution_count": 11,
   "id": "e59a30c8",
   "metadata": {},
   "outputs": [
    {
     "data": {
      "text/plain": [
       "('deadlock difference prevention avoidance',\n",
       " ['https://www.javatpoint.com/deadlock-prevention-vs-deadlock-avoidance-in-operating-system',\n",
       "  'https://www.geeksforgeeks.org/difference-between-deadlock-prevention-and-deadlock-avoidance/',\n",
       "  'https://pediaa.com/what-is-the-difference-between-deadlock-prevention-and-deadlock-avoidance/'])"
      ]
     },
     "execution_count": 11,
     "metadata": {},
     "output_type": "execute_result"
    }
   ],
   "source": [
    "findTopic(qt)"
   ]
  },
  {
   "cell_type": "code",
   "execution_count": 12,
   "id": "358f720d",
   "metadata": {},
   "outputs": [
    {
     "data": {
      "text/plain": [
       "{'P1.Q1': 'Q.1 Explain the following file allocation methods with suitable diagram(s): (5) (a) Linked allocation (b) Indexed allocation',\n",
       " 'P1.Q2': 'Q.2 Differentiate between peer-to-peer and client-server computing (5) environments.',\n",
       " 'P1.Q3': \"Q.3 (a) Write and explain the pseudo-code/algorithm/program of (5) Peterson's Solution used for accessing the critical section by two co-operating processes.  (5)\",\n",
       " 'P1.Q4': 'Q.4 On a system with n CPUs, what is the minimum number of processes that (5) can be in the ready, run, and blocked states? Explain with a suitable process state diagram.',\n",
       " 'P1.Q5': 'Q.5 A system has three processes and four identical resources. Each process (5) needs a maximum of three resources to complete. Is deadlock possible? Explain your answer.',\n",
       " 'P2.Q1': 'Q.6 Define concurrency and race condition.',\n",
       " 'P2.Q2': 'Q.7 Consider a computer system with 264bits virtual address space and page (5) size of 1 Kbyte. The physical memory is of 64 Kbytes and the size of page table entry is 2 bytes. Calculate size of conventional page table and inverted page table. Assume addressing at a byte level.',\n",
       " 'P2.Q3': 'Q.8 Consider the information regarding multi-disk drive given below: (5) Number of platters/disk = 6 Number of surfaces/platter =2 Number of cylinders =32 Number of sectors/ track = 64 Sector capacity = 512 bytes Cylinders capacity = 393216 bytes Number of disks=2 (a) Find the capacity of multi-disk; (b) If record size is twice the size of the sector, then find the number of records that can be stored on disk?',\n",
       " 'P2.Q4': 'Q.9 With a suitable diagram, explain RAID level 0, 3, 5, (0+1), (1+0) (10)',\n",
       " 'P2.Q5': 'Q.10 You have a demand-paged system, where integers are stored in 4 bytes, (5)\\npage size is of 256 bytes, LRU page replacement is used, and each process\\nis allocated 3 frames (initially all empty). A process executes the following\\ncode:\\nint [ ] [ Arr = new int [200] [200]; //Memory allocation for 2-D Array\\nint i = 0;\\nint j = 0;\\nwhile (i++ < 200) {\\nj = 0;\\nPage I 1 \\nwhile (j++ < 200)\\nArr[i][j] = 0;\\n}\\nThe code occupies page 0 and, since a location from page 0 is referenced\\nby each instruction of given code snippet, page 0 is always swapped-in.\\nVariables i and j are stored in fast registers. How many page faults are\\ngenerated for initialization of array named Arr, assuming all elements of\\nthe array are stored in contiguous memory locations in row-major order?',\n",
       " 'P3.Q1': 'Q.11 With a suitable depiction, explain the concept of Hashed Page Table. (05) ',\n",
       " 'P3.Q2': 'Q.12 Given reference to the following pages by a program, (10)\\n0, 9, 0, 1, 8, 1, 8, 7, 8, 7, 1, 2, 8, 2, 7, 8, 2, 3, 8, 3\\nWith the help of a suitable depiction, comment on the count of page faults\\nthat will occur if the program has three page frames (initially empty)\\navailable to it and uses Optimal page replacement algorithm. ',\n",
       " 'P3.Q3': 'Q.13 On a disk with 1000 cylinders, numbers 0 to 999, compute the number of (10)\\ntracks the disk arm must move to satisfy all the requests in the disk queue.\\nThe disk queue contains requests for the following tracks: 123, 874, 692,\\n475, 105, 376. Assume the last request serviced was at track 345 and the\\nhead is moving towards track 0.\\nPerform the computation for the following disk scheduling algorithms:\\n(a) SCAN (b) LOOK (c) C-SCAN (d) C-LOOK ',\n",
       " 'P3.Q4': 'Consider a disk drive system with 8 platters (with one surface only), (10)\\nwhere each surface is having an outer diameter of 16 cm and an inner\\ndiameter of 6 cm and the track width is 0.2 mm. There are 32 sectors in\\neach track. If the disk addresses for reading a byte of a sector on track of\\nthe platter is 27 bits:\\n(a) What is the sector size in bytes?\\n(b) If the disk rotates at 3600 rpm, what is the effective data transfer\\nrate (for a track) in byte/sec? ',\n",
       " 'P3.Q5': 'Consider a system with the following current resource-allocation state: (10)\\nThere are five processes: Po, P1, P2, P3, P4 and three resource types: A, B and\\nC. For each process, the current allocation and the maximum required\\nallocation are given by the Allocation and MAX matrices respectively. The\\ncurrent available resources are given by the Available vector.\\nAllocation\\nABC\\nMAX\\nA B C\\nAvailable\\nA B C\\nPo 1 1 2 4 3 3 2 1 0\\nPi 2 1 2 3 2 2\\nP2 4 0 1 9 0 2\\nP3 0 2 0 7 5 3\\nP4 1 1 2 11 2 3\\n(a) Determine the total amount of resources of each type.\\n(b) What is the \"Need matrix\"?\\nPage 12 \\n(c) Determine if this state is \"Safe\" using the \"Safety Algorithm\".\\n(d) Starting with the allocation resource state given above, suppose the\\ncurrent request for each process is given by the Request matrix\\nbelow. Furthermore, assume that these requests are granted.\\nRequest Matrix:\\nA B C\\nPo 3 3 1\\nP1 1 1 0\\nP2 6 0 1\\nP3 7 2 3\\nP4 0 1 1\\nWill the system be in a deadlocked state? Determine this using the\\nDeadlock detection algorithm.',\n",
       " 'P4.Q1': 'Q.16  On a system with n CPUs, what is the minimum number of processes that (5)\\ncan be in the ready, run, and blocked states? Explain with a suitable\\nprocess state diagram. ',\n",
       " 'P4.Q2': 'What are advantages and disadvantages of virtual machine',\n",
       " 'P4.Q3': 'Explain process control bloc with diagram',\n",
       " 'P4.Q4': 'Consider a simple paging system with virtual address space 232bytes, page size is 1KB and size of 2\\nphysical memory is 16GB. Assume each page table entry also contains a valid/invalid bit and\\naddressing is at byte level. Calculate the size of page table showing all the steps you take to reach the\\nanswer.',\n",
       " 'P4.Q5': 'With a suitable depiction explain the concept of using inverted page table for narrowing the 3\\nrequirement of RAM for storing the page table. ',\n",
       " 'P5.Q1': ' Consider a paging system with 229 byte virtual address space, 512 byte page size and the page table 3\\nentry of 4 bytes in all page tables. A multilevel page table is used such that each page table is\\nconstrained to take size equivalent to one page. Answer the following questions, showing all the\\nintermediate steps.\\na) Calculate the size of page tables at each level?\\nb) In multilevel paging, combined size of all the tables is greater than single level page table, and\\nit increases the memory overhead as compared to the single level paging. Do you agree with\\nthis statement? Justify your answer with a suitable explanation. ',\n",
       " 'P5.Q2': 'With a suitable diagram show the translation of the logical address into physical address using TLB. 4\\nIn a paging system with TLB, it takes 30 ns to search the TLB and 90 ns to access the memory. If the\\nTLB hit ratio is 70%, find the effective memory access time',\n",
       " 'P5.Q3': 'onsider a system with the following set of processes, where arrival time and CPU- (2+2)\\nburst time are in milliseconds. Compute the average turnaround time for the system\\ntaking pre-emptive shortest job first (SJF) algorithm.\\nProcess Arrival Time Burst Time\\nPi 0 5\\nP2 1 3\\nP3 2 3\\nP4 4 1\\nb. Consider three processes, all arriving at time zero, with total execution time (CPU and\\nI/O) of 10, 20 and 30 units, respectively. Each process spends the first 20% of\\nexecution time doing I/O, the next 70% of time doing computation, and the last 10%\\nof time doing 1/0 again. The operating system uses a SJF scheduling algorithm and\\nschedules a new process either when the running process gets blocked on I/O or when\\nthe running process finishes its compute burst. Assume that all I/O operations can be\\noverlap',\n",
       " 'P5.Q4': 'Explain the role of MBR and POST in context of the steps that a computer follows (2+2)\\nafter getting the power supply.',\n",
       " 'P5.Q5': 'With a suitable depiction, explain multi-threading models.\\nb. List Pros and Cons of Microkernel-based architecture and Layered approach for\\ndesigning an operating system. ',\n",
       " 'P6.Q1': 'Consider the following snapshot of a system with four processes A, B, C, and D.\\nCompute the average waiting time for the Round Robin scheduling, where quantum is\\ntaken as Ims.\\nProcess Arrival Time\\n(in ms)\\nCPU Burst\\n(in ms)\\nA - 0.000 4\\nB 2.001 7\\nC 3.001 2\\nD 3.002 2\\nb. Explain the statement with proper justification: In operating systems, the context\\nswitching represents a substantial cost to the system in terms of CPU time. ',\n",
       " 'P6.Q2': 'How is protection implemented using an access matrix? Explain with suitable example.',\n",
       " 'P6.Q3': 'Compare the performance of three techniques for alloocating disk block (contigious, Linked, and indexed) for both sequentual and random file access',\n",
       " 'P6.Q4': 'What is the pupose if interrupts? what are the diffrences between a trap and an interrupt? can trap be generated intenionally by the user? if so for what purpose?',\n",
       " 'P6.Q5': 'What is the puspose of the command interpreter? why is it usually seperate from kernel? Would it be possible for the user to develop a new command interpreter using the system-call interface provided by the operating system?'}"
      ]
     },
     "execution_count": 12,
     "metadata": {},
     "output_type": "execute_result"
    }
   ],
   "source": [
    "with open('paper2.txt') as f:\n",
    "    data = f.read()\n",
    "import ast\n",
    "paper = ast.literal_eval(data)\n",
    "paper"
   ]
  },
  {
   "cell_type": "code",
   "execution_count": 13,
   "id": "28972939",
   "metadata": {},
   "outputs": [
    {
     "data": {
      "text/plain": [
       "{'P1.Q1': ('file allocation methods operating',\n",
       "  ['https://www.geeksforgeeks.org/file-allocation-methods/',\n",
       "   'https://www.scaler.com/topics/file-allocation-methods-in-os/',\n",
       "   'https://www.ques10.com/p/25214/explain-file-allocation-methods-in-detail-with-p-1/']),\n",
       " 'P1.Q2': ('difference peer network peertopeer',\n",
       "  ['https://pediaa.com/difference-between-peer-to-peer-and-client-server-network/',\n",
       "   'https://www.geeksforgeeks.org/difference-between-client-server-and-peer-to-peer-network/',\n",
       "   'https://byjus.com/gate/difference-between-client-server-and-peer-to-peer-network/']),\n",
       " 'P1.Q3': ('petersons synchronization process solution',\n",
       "  ['https://www.geeksforgeeks.org/petersons-algorithm-in-process-synchronization/',\n",
       "   'https://www.javatpoint.com/os-paterson-solution',\n",
       "   'https://www.guru99.com/process-synchronization.html']),\n",
       " 'P1.Q4': ('system n cpus maximum',\n",
       "  ['https://www.quora.com/On-a-system-with-n-CPUs-what-is-the-maximum-number-of-processes-that-can-be-in-the-ready-run-and-blocked-states',\n",
       "   'https://www.guru99.com/process-management-pcb.html']),\n",
       " 'P1.Q5': ('deadlock isro question system',\n",
       "  ['https://www.geeksforgeeks.org/isro-isro-cs-2016-question-43/',\n",
       "   'https://www.quora.com/Can-deadlock-occur-if-a-system-has-3-processes-sharing-4-resources-and-if-each-process-needs-a-maximum-of-2-units',\n",
       "   'https://www.gatevidyalay.com/deadlock-in-os-deadlock-problems-questions/'])}"
      ]
     },
     "execution_count": 13,
     "metadata": {},
     "output_type": "execute_result"
    }
   ],
   "source": [
    "paper_topics = {}\n",
    "for key in list(paper.keys())[:5]:\n",
    "    paper_topics[key] = findTopic(paper[key])\n",
    "paper_topics"
   ]
  },
  {
   "cell_type": "code",
   "execution_count": null,
   "id": "195a0a73",
   "metadata": {},
   "outputs": [],
   "source": []
  }
 ],
 "metadata": {
  "kernelspec": {
   "display_name": "Python 3.9.7 ('base')",
   "language": "python",
   "name": "python3"
  },
  "language_info": {
   "codemirror_mode": {
    "name": "ipython",
    "version": 3
   },
   "file_extension": ".py",
   "mimetype": "text/x-python",
   "name": "python",
   "nbconvert_exporter": "python",
   "pygments_lexer": "ipython3",
   "version": "3.9.7"
  },
  "vscode": {
   "interpreter": {
    "hash": "ad7018db36a3ee4b2a11f8f3f3d0985253fb2642c02580a3b02a76e0c9d52eda"
   }
  }
 },
 "nbformat": 4,
 "nbformat_minor": 5
}
